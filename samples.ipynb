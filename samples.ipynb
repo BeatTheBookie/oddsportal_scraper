{
 "cells": [
  {
   "cell_type": "code",
   "execution_count": 2,
   "metadata": {},
   "outputs": [
    {
     "name": "stdout",
     "output_type": "stream",
     "text": [
      "Scraping next matches from  https://www.oddsportal.com/football/germany/bundesliga/\n",
      "...downloading webdriver (if not yet happened)\n",
      "...waiting 4 seconds\n",
      "...getting links of single matches\n",
      "Scraping 1x2 odds from  https://www.oddsportal.com/football/germany/bundesliga/schalke-hertha-berlin-r7xLMaQC/#1X2\n",
      "...waiting 4 seconds\n",
      "...bookmakers & odds read\n",
      "browser quit\n",
      "            match_date home_team      away_team   bookie_name home_odd  \\\n",
      "0  2023-04-14 18:30:00   Schalke  Hertha Berlin      10x10bet     2.39   \n",
      "1  2023-04-14 18:30:00   Schalke  Hertha Berlin         1xBet     2.40   \n",
      "2  2023-04-14 18:30:00   Schalke  Hertha Berlin      Alphabet     2.38   \n",
      "3  2023-04-14 18:30:00   Schalke  Hertha Berlin   bet-at-home     2.38   \n",
      "4  2023-04-14 18:30:00   Schalke  Hertha Berlin        bet365     2.30   \n",
      "5  2023-04-14 18:30:00   Schalke  Hertha Berlin          bwin     2.30   \n",
      "6  2023-04-14 18:30:00   Schalke  Hertha Berlin       Curebet     2.38   \n",
      "7  2023-04-14 18:30:00   Schalke  Hertha Berlin         GGBET     2.40   \n",
      "8  2023-04-14 18:30:00   Schalke  Hertha Berlin   Interwetten     2.35   \n",
      "9  2023-04-14 18:30:00   Schalke  Hertha Berlin        Lasbet     2.40   \n",
      "10 2023-04-14 18:30:00   Schalke  Hertha Berlin   Marathonbet     2.32   \n",
      "11 2023-04-14 18:30:00   Schalke  Hertha Berlin       Marsbet     2.41   \n",
      "12 2023-04-14 18:30:00   Schalke  Hertha Berlin      Pinnacle     2.39   \n",
      "13 2023-04-14 18:30:00   Schalke  Hertha Berlin        Unibet     2.30   \n",
      "14 2023-04-14 18:30:00   Schalke  Hertha Berlin         VOBET     2.40   \n",
      "15 2023-04-14 18:30:00   Schalke  Hertha Berlin  William Hill     2.35   \n",
      "\n",
      "   draw_odd away_odd  \n",
      "0      3.39     3.21  \n",
      "1      3.46     3.20  \n",
      "2      3.37     3.19  \n",
      "3      3.30     3.10  \n",
      "4      3.40     3.10  \n",
      "5      3.30     3.10  \n",
      "6      3.37     3.19  \n",
      "7      3.38     3.16  \n",
      "8      3.35     3.05  \n",
      "9      3.40     3.23  \n",
      "10     3.36     3.10  \n",
      "11     3.45     3.10  \n",
      "12     3.36     3.20  \n",
      "13     3.40     3.10  \n",
      "14     3.40     3.23  \n",
      "15     3.30     3.00  \n"
     ]
    }
   ],
   "source": [
    "from oddsportal_scraper import *\n",
    "\n",
    "v_csv_path = 'c:/temp/export_test.csv'\n",
    "\n",
    "df_next_matches_1x2_odds = oddsportal_football_next_matches_1x2_odds('germany','bundesliga')\n",
    "\n",
    "print(df_next_matches_1x2_odds)\n",
    "\n",
    "df_next_matches_1x2_odds.to_csv(v_csv_path)\n"
   ]
  }
 ],
 "metadata": {
  "kernelspec": {
   "display_name": "Betting DB",
   "language": "python",
   "name": "python3"
  },
  "language_info": {
   "codemirror_mode": {
    "name": "ipython",
    "version": 3
   },
   "file_extension": ".py",
   "mimetype": "text/x-python",
   "name": "python",
   "nbconvert_exporter": "python",
   "pygments_lexer": "ipython3",
   "version": "3.9.13"
  },
  "orig_nbformat": 4
 },
 "nbformat": 4,
 "nbformat_minor": 2
}
